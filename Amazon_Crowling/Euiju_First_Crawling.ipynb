{
 "cells": [
  {
   "cell_type": "code",
   "execution_count": 1,
   "id": "bcad2f2b",
   "metadata": {},
   "outputs": [],
   "source": [
    "from selenium import webdriver\n",
    "import chromedriver_autoinstaller\n",
    "import time\n",
    "import pandas as pd\n",
    "from selenium.webdriver.common.keys import Keys\n",
    "from selenium.webdriver.common.by import By\n",
    "from bs4 import BeautifulSoup\n",
    "import re\n"
   ]
  },
  {
   "cell_type": "code",
   "execution_count": 12,
   "id": "988308c7",
   "metadata": {},
   "outputs": [],
   "source": [
    "def amazon_crawling(soup, m):\n",
    "    \n",
    "    tmp_lst = []\n",
    "    \n",
    "    for x in range(m):\n",
    "        try:\n",
    "            prd_name = soup.select('div.a-section.a-spacing-small.puis-padding-left-small.puis-padding-right-small > div.a-section.a-spacing-none.a-spacing-top-small.s-title-instructions-style > h2')[x].text\n",
    "        except IndexError:\n",
    "            prd_name = None\n",
    "            \n",
    "        try:\n",
    "            tmp = soup.select('div.a-section.a-spacing-small.puis-padding-left-small.puis-padding-right-small > div:nth-child(2) > div > span:nth-child(1) > span.a-size-base')[x].text\n",
    "            tmps = re.sub('[()]','', tmp)\n",
    "            prd_rating= float(tmps)\n",
    "        except IndexError:\n",
    "            prd_rating = None\n",
    "        \n",
    "        try:\n",
    "            tmp = soup.select('div.a-section.a-spacing-small.puis-padding-left-small.puis-padding-right-small > div.a-section.a-spacing-none.a-spacing-top-small.s-price-instructions-style > div > a > span.a-price > span.a-offscreen')[x].text\n",
    "            tmps = re.sub('[$]','',tmp)\n",
    "            prd_price = float(tmps)\n",
    "        except IndexError:\n",
    "            prd_price = None\n",
    "        \n",
    "        try:        \n",
    "            tmp = soup.select('div.a-section.a-spacing-small.puis-padding-left-small.puis-padding-right-small > div.a-section.a-spacing-none.a-spacing-top-small.s-title-instructions-style > h2 > a')[x].get('href')\n",
    "            prd_link = f'https://www.amazon.com{tmp}'\n",
    "        except IndexError:\n",
    "            prd_link = None\n",
    "        \n",
    "        try:\n",
    "            tmp = soup.select('div.a-section.a-spacing-small.puis-padding-left-small.puis-padding-right-small > div:nth-child(2) > div > span:nth-child(2) > a > span')[x].text.replace(',', '')\n",
    "            tmps = re.sub('[()]','',tmp)\n",
    "            prd_reviews = int(tmps)\n",
    "        except IndexError:\n",
    "            prd_reviews = None\n",
    "            \n",
    "        tmp_lst.append([prd_name, prd_rating, prd_price, prd_link, prd_reviews])\n",
    "\n",
    "    return tmp_lst"
   ]
  },
  {
   "cell_type": "code",
   "execution_count": 13,
   "id": "e147d213",
   "metadata": {},
   "outputs": [
    {
     "name": "stderr",
     "output_type": "stream",
     "text": [
      "/var/folders/ss/fbwhhkzj2_99l0jshybs2tm80000gn/T/ipykernel_4545/3567269092.py:2: DeprecationWarning: executable_path has been deprecated, please pass in a Service object\n",
      "  driver = webdriver.Chrome('/Users/jeongeuiju/Amazon_Web_Crowling/chromedriver')\n"
     ]
    }
   ],
   "source": [
    "base_url = 'https://www.amazon.com/s?i=hpc-intl-ship&bbn=16225010011&rh=n%3A16225010011%2Cn%3A3764441&page={}&qid=1670091061&ref=sr_pg_3'\n",
    "driver = webdriver.Chrome('/Users/jeongeuiju/Amazon_Web_Crowling/chromedriver')\n",
    "\n",
    "total_lst = []\n",
    "\n",
    "for n in range(400) :\n",
    "    url = base_url.format(n+1)\n",
    "    driver.get(url)\n",
    "    time.sleep(3)\n",
    "    html = driver.page_source\n",
    "    soup = BeautifulSoup(html, 'html.parser')\n",
    "    \n",
    "    tmp_lst2 = amazon_crawling(soup, 12)\n",
    "    total_lst.extend(tmp_lst2)"
   ]
  },
  {
   "cell_type": "code",
   "execution_count": 14,
   "id": "82aecfa1",
   "metadata": {},
   "outputs": [],
   "source": [
    "df = pd.DataFrame(total_lst, columns = ['Name', 'Ratings', 'Price', 'Link', 'Reviews'])\n",
    "\n",
    "df.to_csv('Crawling_Amazon.csv', index_label = False)"
   ]
  }
 ],
 "metadata": {
  "kernelspec": {
   "display_name": "Python 3 (ipykernel)",
   "language": "python",
   "name": "python3"
  },
  "language_info": {
   "codemirror_mode": {
    "name": "ipython",
    "version": 3
   },
   "file_extension": ".py",
   "mimetype": "text/x-python",
   "name": "python",
   "nbconvert_exporter": "python",
   "pygments_lexer": "ipython3",
   "version": "3.9.12"
  }
 },
 "nbformat": 4,
 "nbformat_minor": 5
}
